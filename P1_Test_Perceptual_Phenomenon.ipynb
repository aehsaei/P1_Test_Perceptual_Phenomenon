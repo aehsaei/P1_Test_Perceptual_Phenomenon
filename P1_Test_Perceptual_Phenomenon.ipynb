{
 "cells": [
  {
   "cell_type": "markdown",
   "metadata": {},
   "source": [
    "#1. What is our independent variable? What is our dependent variable?\n",
    "\n",
    "The independent variable is the variable we have control over in this experiment. By varying the independent variable, we can measure changes in the dependent variable. In this example, the independent variable is the color/word congruence. The color and name of the color can be congruent or incongruent. The dependent variable is the variable we wish to measure in our experiment. In this example, the dependent variable is the time it takes for the participant to name the ink color."
   ]
  },
  {
   "cell_type": "markdown",
   "metadata": {},
   "source": [
    "#2. What is an appropriate set of hypotheses for this task? What kind of statistical test do you expect to perform? Justify your choices.\n",
    "\n",
    "The two cases under study are the case where the color and word are congruent (“congruent case”) and the case where the color and word are incongruent (“incongruent case”). \n",
    "\n",
    "We will be comparing two population means denoted μC, μI  which correspond to the congruent and incongruent cases respectively. The null hypothesis (H0) will be that there is no difference between the two population means μC and μI. The alternative hypothesis is that the incongruent case will cause the participants to take a shorter or longer time to identify the color. This effectively means that the alternative hypothesis (H1) is that the population mean of the incongruent dataset is larger or smaller than the population mean of the congruent dataset.\n",
    "\n",
    "<pre> <b>\n",
    "H0: μC = μI  (Null Hypothesis)\n",
    "H1: μC ≠ μI  (Alternative Hypothesis)\n",
    "</b> </pre>\n",
    "\n",
    "We have less than 30 samples for both the congruent and incongruent datasets and we do not know the true population mean or standard deviation. We are working with a dataset for a group of participants that have been tested twice. Therefore we will choose a two-tailed, paired sample t-test to perform the comparison and determine if we can reject the null hypothesis. We will test whether the mean of the differences between the two cases is significant.\n"
   ]
  },
  {
   "cell_type": "markdown",
   "metadata": {},
   "source": [
    "#3. Report some descriptive statistics regarding this dataset. Include at least one measure of central tendency and at least one measure of variability.\n",
    "\n",
    "The central tendency measures the center of a distribution of values.\n",
    "Central tendency measurements: Mean, Median, Mode\n",
    "\n",
    "The following central tendency measurements were calculated on the congruent dataset:\n",
    "\n",
    "<b><pre>\n",
    "Mean   = 14.051125\n",
    "Median = 14.3565    \n",
    "</pre></b>\n",
    "\n",
    "The following central tendency measurements were calculated on the incongruent dataset:\n",
    "\n",
    "<b><pre>\n",
    "Mean   = 22.01591667\n",
    "Median = 21.0175    \n",
    "</pre></b>\n",
    "\n",
    "The mode was not calculated since none of the exact values were ever repeated in each of the datasets. If we decided to create a bin size to decrease the granularity of the results, we could calculate the mode on the binned dataset.\n",
    "\n",
    "The variability measures of the spread of a distribution of values.\n",
    "Variability measurements: Range, Variance, Standard deviation from the mean.\n",
    "I used Bessel’s correction in my calculations because I don’t know what the true population mean, only the mean of my sample.\n",
    "\n",
    "The following variability measurements were calculated on the congruent dataset:\n",
    "\n",
    "<b><pre>\n",
    "Range                = 13.698     \n",
    "Variance             = 12.66902907\n",
    "Standard Deviation   = 3.559357958\n",
    "</pre></b>\n",
    "\n",
    "The following variability measurements were calculated on the incongruent dataset:\n",
    "\n",
    "<b><pre>\n",
    "Range                = 19.568\n",
    "Variance             = 23.01175704\n",
    "Standard Deviation   = 4.797057122\n",
    "</pre></b>"
   ]
  },
  {
   "cell_type": "markdown",
   "metadata": {},
   "source": [
    "#4. Provide one or two visualizations that show the distribution of the sample data. Write one or two sentences noting what you observe about the plot or plots."
   ]
  },
  {
   "cell_type": "code",
   "execution_count": 8,
   "metadata": {
    "collapsed": false,
    "scrolled": true
   },
   "outputs": [
    {
     "name": "stdout",
     "output_type": "stream",
     "text": [
      "Populating the interactive namespace from numpy and matplotlib\n"
     ]
    }
   ],
   "source": [
    "import pandas as pd\n",
    "import matplotlib.pyplot as plt\n",
    "\n",
    "# Plot within the notebook rather than in a new window\n",
    "%pylab inline\n",
    "\n",
    "# Import the data set\n",
    "path = r'/Users/aehsaei/Downloads/stroopdata.csv'\n",
    "\n",
    "# Read the csv\n",
    "dataFrame = pd.read_csv(path)"
   ]
  },
  {
   "cell_type": "code",
   "execution_count": 9,
   "metadata": {
    "collapsed": false
   },
   "outputs": [
    {
     "data": {
      "text/html": [
       "<div>\n",
       "<table border=\"1\" class=\"dataframe\">\n",
       "  <thead>\n",
       "    <tr style=\"text-align: right;\">\n",
       "      <th></th>\n",
       "      <th>Congruent</th>\n",
       "      <th>Incongruent</th>\n",
       "    </tr>\n",
       "  </thead>\n",
       "  <tbody>\n",
       "    <tr>\n",
       "      <th>0</th>\n",
       "      <td>12.079</td>\n",
       "      <td>19.278</td>\n",
       "    </tr>\n",
       "    <tr>\n",
       "      <th>1</th>\n",
       "      <td>16.791</td>\n",
       "      <td>18.741</td>\n",
       "    </tr>\n",
       "    <tr>\n",
       "      <th>2</th>\n",
       "      <td>9.564</td>\n",
       "      <td>21.214</td>\n",
       "    </tr>\n",
       "    <tr>\n",
       "      <th>3</th>\n",
       "      <td>8.630</td>\n",
       "      <td>15.687</td>\n",
       "    </tr>\n",
       "    <tr>\n",
       "      <th>4</th>\n",
       "      <td>14.669</td>\n",
       "      <td>22.803</td>\n",
       "    </tr>\n",
       "    <tr>\n",
       "      <th>5</th>\n",
       "      <td>12.238</td>\n",
       "      <td>20.878</td>\n",
       "    </tr>\n",
       "    <tr>\n",
       "      <th>6</th>\n",
       "      <td>14.692</td>\n",
       "      <td>24.572</td>\n",
       "    </tr>\n",
       "    <tr>\n",
       "      <th>7</th>\n",
       "      <td>8.987</td>\n",
       "      <td>17.394</td>\n",
       "    </tr>\n",
       "    <tr>\n",
       "      <th>8</th>\n",
       "      <td>9.401</td>\n",
       "      <td>20.762</td>\n",
       "    </tr>\n",
       "    <tr>\n",
       "      <th>9</th>\n",
       "      <td>14.480</td>\n",
       "      <td>26.282</td>\n",
       "    </tr>\n",
       "    <tr>\n",
       "      <th>10</th>\n",
       "      <td>22.328</td>\n",
       "      <td>24.524</td>\n",
       "    </tr>\n",
       "    <tr>\n",
       "      <th>11</th>\n",
       "      <td>15.298</td>\n",
       "      <td>18.644</td>\n",
       "    </tr>\n",
       "    <tr>\n",
       "      <th>12</th>\n",
       "      <td>15.073</td>\n",
       "      <td>17.510</td>\n",
       "    </tr>\n",
       "    <tr>\n",
       "      <th>13</th>\n",
       "      <td>16.929</td>\n",
       "      <td>20.330</td>\n",
       "    </tr>\n",
       "    <tr>\n",
       "      <th>14</th>\n",
       "      <td>18.200</td>\n",
       "      <td>35.255</td>\n",
       "    </tr>\n",
       "    <tr>\n",
       "      <th>15</th>\n",
       "      <td>12.130</td>\n",
       "      <td>22.158</td>\n",
       "    </tr>\n",
       "    <tr>\n",
       "      <th>16</th>\n",
       "      <td>18.495</td>\n",
       "      <td>25.139</td>\n",
       "    </tr>\n",
       "    <tr>\n",
       "      <th>17</th>\n",
       "      <td>10.639</td>\n",
       "      <td>20.429</td>\n",
       "    </tr>\n",
       "    <tr>\n",
       "      <th>18</th>\n",
       "      <td>11.344</td>\n",
       "      <td>17.425</td>\n",
       "    </tr>\n",
       "    <tr>\n",
       "      <th>19</th>\n",
       "      <td>12.369</td>\n",
       "      <td>34.288</td>\n",
       "    </tr>\n",
       "    <tr>\n",
       "      <th>20</th>\n",
       "      <td>12.944</td>\n",
       "      <td>23.894</td>\n",
       "    </tr>\n",
       "    <tr>\n",
       "      <th>21</th>\n",
       "      <td>14.233</td>\n",
       "      <td>17.960</td>\n",
       "    </tr>\n",
       "    <tr>\n",
       "      <th>22</th>\n",
       "      <td>19.710</td>\n",
       "      <td>22.058</td>\n",
       "    </tr>\n",
       "    <tr>\n",
       "      <th>23</th>\n",
       "      <td>16.004</td>\n",
       "      <td>21.157</td>\n",
       "    </tr>\n",
       "  </tbody>\n",
       "</table>\n",
       "</div>"
      ],
      "text/plain": [
       "    Congruent  Incongruent\n",
       "0      12.079       19.278\n",
       "1      16.791       18.741\n",
       "2       9.564       21.214\n",
       "3       8.630       15.687\n",
       "4      14.669       22.803\n",
       "5      12.238       20.878\n",
       "6      14.692       24.572\n",
       "7       8.987       17.394\n",
       "8       9.401       20.762\n",
       "9      14.480       26.282\n",
       "10     22.328       24.524\n",
       "11     15.298       18.644\n",
       "12     15.073       17.510\n",
       "13     16.929       20.330\n",
       "14     18.200       35.255\n",
       "15     12.130       22.158\n",
       "16     18.495       25.139\n",
       "17     10.639       20.429\n",
       "18     11.344       17.425\n",
       "19     12.369       34.288\n",
       "20     12.944       23.894\n",
       "21     14.233       17.960\n",
       "22     19.710       22.058\n",
       "23     16.004       21.157"
      ]
     },
     "execution_count": 9,
     "metadata": {},
     "output_type": "execute_result"
    }
   ],
   "source": [
    "dataFrame"
   ]
  },
  {
   "cell_type": "code",
   "execution_count": 10,
   "metadata": {
    "collapsed": false
   },
   "outputs": [
    {
     "data": {
      "image/png": "[encoded data removed]",
      "text/plain": [
       "<matplotlib.figure.Figure at 0x105e9ad90>"
      ]
     },
     "metadata": {},
     "output_type": "display_data"
    },
    {
     "data": {
      "image/png": "[encoded data removed]",
      "text/plain": [
       "<matplotlib.figure.Figure at 0x108e64cd0>"
      ]
     },
     "metadata": {},
     "output_type": "display_data"
    }
   ],
   "source": [
    "# Assign local variables to each column dataset\n",
    "congruent   = dataFrame['Congruent']\n",
    "incongruent = dataFrame['Incongruent']\n",
    "\n",
    "# Create a bar chart of\n",
    "plt.xlabel(\"Participant\")\n",
    "plt.ylabel(\"Time\")\n",
    "plt.bar( range(len(dataFrame)), congruent, width=1, color='blue' )\n",
    "plt.yticks( np.arange(0, 45, 5) )\n",
    "plt.legend(('Congruent',''))\n",
    "plt.show()\n",
    "\n",
    "plt.xlabel(\"Participant\")\n",
    "plt.ylabel(\"Time\")\n",
    "plt.bar( range(len(dataFrame)), incongruent, width=1, color='green' )\n",
    "plt.yticks( np.arange(0, 45, 5) )\n",
    "plt.legend(('Incongruent',''))\n",
    "plt.show()"
   ]
  },
  {
   "cell_type": "markdown",
   "metadata": {
    "collapsed": true
   },
   "source": [
    "The three plots above show the data for the congruent and incongruent samples. Looking at the plots, we can see that the time to indentify the color for each participant is increased for the incongruent case, over the congruent case."
   ]
  },
  {
   "cell_type": "markdown",
   "metadata": {},
   "source": [
    "#5. Now, perform the statistical test and report your results. What is your confidence level and your critical statistic value? Do you reject the null hypothesis or fail to reject it? Come to a conclusion in terms of the experiment task. Did the results match up with your expectations?"
   ]
  },
  {
   "cell_type": "markdown",
   "metadata": {},
   "source": [
    "The significance level (Alpha) is 5%, and the Confidence level is 95%\n",
    "<b><pre>\n",
    "Confidence level = 0.95\n",
    "Alpha level      = 0.05\n",
    "</pre></b>\n",
    "\n",
    "We have a sample size of 24 and therefore 23 degrees of freedom. The t-critical value for a two-tailed test with alpha=0.05:\n",
    "The t-critical value for a two-tailed test with alpha=0.05:\n",
    "<b><pre>\n",
    "t-critical = ±2.069\n",
    "</pre></b>\n",
    "\n",
    "In order to reject the null hypothesis, the following must be true of the incongruence mean:\n",
    "<br>- Our calculated t-statistic is greater than the t-critical value (2.045)"
   ]
  },
  {
   "cell_type": "code",
   "execution_count": 11,
   "metadata": {
    "collapsed": false
   },
   "outputs": [
    {
     "name": "stdout",
     "output_type": "stream",
     "text": [
      "-8.02070694411\n"
     ]
    }
   ],
   "source": [
    "#Congruent variables\n",
    "Sc = 3.559357958\n",
    "Xc = 14.051125\n",
    "\n",
    "#Incongruent variables\n",
    "Si = 4.797057122\n",
    "Xi = 22.01591667\n",
    "\n",
    "#Sample size of both congruent and incongruent samples\n",
    "n = 24\n",
    "\n",
    "#Calculate the samples' difference standard deviation\n",
    "Diff        = congruent - incongruent\n",
    "DiffMean    = Diff.mean()\n",
    "DiffSquared = Diff.pow(2)\n",
    "s           = sqrt((DiffSquared.sum() - pow(Diff.sum(),2)/n) /(n-1))\n",
    "SError      = s/sqrt(n)\n",
    "\n",
    "#Calculate the t-statistic\n",
    "t           = (DiffMean)/SError\n",
    "\n",
    "print t"
   ]
  },
  {
   "cell_type": "markdown",
   "metadata": {},
   "source": [
    "The t-statistic lies in the critical region of the distribution and therefore we can reject the null hypothesis.\n",
    "This does match up with my expectations that the incongruent case caused participants to take a longer time to identify the color. "
   ]
  },
  {
   "cell_type": "markdown",
   "metadata": {},
   "source": [
    "#6. Optional: What do you think is responsible for the effects observed? Can you think of an alternative or similar task that would result in a similar effect? Some research about the problem will be helpful for thinking about these two questions!"
   ]
  },
  {
   "cell_type": "markdown",
   "metadata": {},
   "source": [
    "Based on the research, the stroop effect is caused by conflicting information sent from two different areas of the brain while attempting to read an incongruent color/color_name. One area of the brain processes color and a different area processes the written name. Both results a sent to a central processing area of the brain and result in a 'race condition' of sorts for arriving at a final result.\n",
    "\n",
    "I can think of similar task wherein the participant is faced with incongruent shapes and shape names. You could have a list of shape names written as shape-outlines. Similar to the color experiment, some shape/shape-name would be congruent and some would be incongruent."
   ]
  },
  {
   "cell_type": "markdown",
   "metadata": {},
   "source": [
    "Resources:\n",
    "<pre>\n",
    "http://matplotlib.org/api/pyplot_api.html\n",
    "http://pandas.pydata.org/pandas-docs/stable/generated/pandas.read_csv.html\n",
    "http://matplotlib.org/examples/api/barchart_demo.html\n",
    "http://daringfireball.net/projects/markdown/syntax#p\n",
    "https://en.wikipedia.org/wiki/Stroop_effect\n",
    "http://support.minitab.com/en-us/minitab/17/topic-library/basic-statistics-and-graphs/hypothesis-tests/basics/null-and-alternative-hypotheses/\n",
    "</pre>"
   ]
  },
  {
   "cell_type": "code",
   "execution_count": null,
   "metadata": {
    "collapsed": true
   },
   "outputs": [],
   "source": []
  }
 ],
 "metadata": {
  "kernelspec": {
   "display_name": "Python 2",
   "language": "python",
   "name": "python2"
  },
  "language_info": {
   "codemirror_mode": {
    "name": "ipython",
    "version": 2
   },
   "file_extension": ".py",
   "mimetype": "text/x-python",
   "name": "python",
   "nbconvert_exporter": "python",
   "pygments_lexer": "ipython2",
   "version": "2.7.10"
  }
 },
 "nbformat": 4,
 "nbformat_minor": 0
}
